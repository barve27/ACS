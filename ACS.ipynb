{
  "nbformat": 4,
  "nbformat_minor": 0,
  "metadata": {
    "colab": {
      "provenance": [],
      "authorship_tag": "ABX9TyMsWhnh5//oCe/G4n3oZvH6",
      "include_colab_link": true
    },
    "kernelspec": {
      "name": "python3",
      "display_name": "Python 3"
    },
    "language_info": {
      "name": "python"
    }
  },
  "cells": [
    {
      "cell_type": "markdown",
      "metadata": {
        "id": "view-in-github",
        "colab_type": "text"
      },
      "source": [
        "<a href=\"https://colab.research.google.com/github/barve27/ACS/blob/main/ACS.ipynb\" target=\"_parent\"><img src=\"https://colab.research.google.com/assets/colab-badge.svg\" alt=\"Open In Colab\"/></a>"
      ]
    },
    {
      "cell_type": "markdown",
      "source": [
        "XSS"
      ],
      "metadata": {
        "id": "6nUzyi5N0s8q"
      }
    },
    {
      "cell_type": "code",
      "execution_count": 4,
      "metadata": {
        "colab": {
          "base_uri": "https://localhost:8080/"
        },
        "id": "3vOGdtRo0sBK",
        "outputId": "463f78d6-5fa7-4239-a3a2-6d7e317392e6"
      },
      "outputs": [
        {
          "output_type": "stream",
          "name": "stdout",
          "text": [
            "Enter URl:https://chatgpt.com\n",
            "No XSS vulnerability found!\n"
          ]
        }
      ],
      "source": [
        "import requests\n",
        "payload = \"<script>alert('XSS')</script>\"\n",
        "url= input(\"Enter URl:\") +f\"?test={payload}\"\n",
        "print(\"[!]XSS vulnerability found!\" if payload in requests.get(url).text else \"No XSS vulnerability found!\")"
      ]
    },
    {
      "cell_type": "markdown",
      "source": [
        "Blowfish"
      ],
      "metadata": {
        "id": "XkXrX87n7xX8"
      }
    },
    {
      "cell_type": "code",
      "source": [
        "!pip install pycryptodome\n",
        "from Crypto.Cipher import Blowfish\n",
        "key=b\"key1234\"\n",
        "data=b\"Hello123\"\n",
        "cipher = Blowfish.new(key,Blowfish.MODE_ECB)\n",
        "encrypted=cipher.encrypt(data)\n",
        "decrypted=cipher.decrypt(encrypted)\n",
        "print(\"Encrypted:\",encrypted)\n",
        "print(\"Decrypted:\",decrypted.decode())"
      ],
      "metadata": {
        "colab": {
          "base_uri": "https://localhost:8080/"
        },
        "id": "Wb-BM2_s7zVR",
        "outputId": "1b0d4f07-e9f0-4bab-86a7-bbe3ffa73f29"
      },
      "execution_count": 10,
      "outputs": [
        {
          "output_type": "stream",
          "name": "stdout",
          "text": [
            "Requirement already satisfied: pycryptodome in /usr/local/lib/python3.10/dist-packages (3.21.0)\n",
            "Encrypted: b'\\x99\\xcb\\xbb`S\\x1e\\xdf,'\n",
            "Decrypted: Hello123\n"
          ]
        }
      ]
    },
    {
      "cell_type": "markdown",
      "source": [
        "Homomorphic Encryption"
      ],
      "metadata": {
        "id": "AqKfGfcn83pZ"
      }
    },
    {
      "cell_type": "code",
      "source": [
        "num1=18\n",
        "num2=35\n",
        "key=16\n",
        "encrypted_num1=num1+key\n",
        "encrypted_num2=num2+key\n",
        "encrypted_result=encrypted_num1+encrypted_num2\n",
        "decrypted_result=encrypted_result-(2*key)\n",
        "print(\"Encrypted num1:\",encrypted_num1)\n",
        "print(\"Encrypted num2:\",encrypted_num2)\n",
        "print(\"Encrypted result:\",encrypted_result)\n",
        "print(\"Decrypted result:\",decrypted_result)"
      ],
      "metadata": {
        "colab": {
          "base_uri": "https://localhost:8080/"
        },
        "id": "pjZKJ8tv83SB",
        "outputId": "e41c9935-ada6-414e-930d-b9cc2a9f45a0"
      },
      "execution_count": 12,
      "outputs": [
        {
          "output_type": "stream",
          "name": "stdout",
          "text": [
            "Encrypted num1: 34\n",
            "Encrypted num2: 51\n",
            "Encrypted result: 85\n",
            "Decrypted result: 53\n"
          ]
        }
      ]
    },
    {
      "cell_type": "markdown",
      "source": [
        "Pallier"
      ],
      "metadata": {
        "id": "oKyhDkap_i8f"
      }
    },
    {
      "cell_type": "code",
      "source": [
        "!pip install phe\n",
        "from phe import paillier\n",
        "public_key,private_key=paillier.generate_paillier_keypair()\n",
        "num1=15\n",
        "num2=27\n",
        "encrypted_num1=public_key.encrypt(num1)\n",
        "encrypted_num2=public_key.encrypt(num2)\n",
        "encrypted_result=encrypted_num1 + encrypted_num2\n",
        "decrypted_result=private_key.decrypt(encrypted_result)\n",
        "print(\"Public Key:\",public_key)\n",
        "print(\"Private Key:\",private_key)\n",
        "print(\"Decrypted Sum:\",decrypted_result)"
      ],
      "metadata": {
        "colab": {
          "base_uri": "https://localhost:8080/"
        },
        "id": "wYfLUYHK_ihm",
        "outputId": "c4809759-999e-443c-e131-ceafb7a88b68"
      },
      "execution_count": 13,
      "outputs": [
        {
          "output_type": "stream",
          "name": "stdout",
          "text": [
            "Collecting phe\n",
            "  Downloading phe-1.5.0-py2.py3-none-any.whl.metadata (3.8 kB)\n",
            "Downloading phe-1.5.0-py2.py3-none-any.whl (53 kB)\n",
            "\u001b[?25l   \u001b[90m━━━━━━━━━━━━━━━━━━━━━━━━━━━━━━━━━━━━━━━━\u001b[0m \u001b[32m0.0/53.7 kB\u001b[0m \u001b[31m?\u001b[0m eta \u001b[36m-:--:--\u001b[0m\r\u001b[2K   \u001b[90m━━━━━━━━━━━━━━━━━━━━━━━━━━━━━━━━━━━━━━━━\u001b[0m \u001b[32m53.7/53.7 kB\u001b[0m \u001b[31m4.9 MB/s\u001b[0m eta \u001b[36m0:00:00\u001b[0m\n",
            "\u001b[?25hInstalling collected packages: phe\n",
            "Successfully installed phe-1.5.0\n",
            "Public Key: <PaillierPublicKey 14f8c74149>\n",
            "Private Key: <PaillierPrivateKey for <PaillierPublicKey 14f8c74149>>\n",
            "Decrypted Sum: 42\n"
          ]
        }
      ]
    },
    {
      "cell_type": "markdown",
      "source": [
        "Diffie Hellman"
      ],
      "metadata": {
        "id": "x1_0vaBWAQc_"
      }
    },
    {
      "cell_type": "code",
      "source": [
        "P=23\n",
        "Q=15\n",
        "A=5\n",
        "B=7\n",
        "a=(Q**A)%P\n",
        "b=(Q**B)%P\n",
        "alice=(b**A) % P\n",
        "bob=(a**B) % P\n",
        "print(\"Public Key A:\",a)\n",
        "print(\"Public Key B:\",b)\n",
        "print(\"Alice Shared Key:\",alice)\n",
        "print(\"Bob Shared Key:\",bob)\n"
      ],
      "metadata": {
        "colab": {
          "base_uri": "https://localhost:8080/"
        },
        "id": "vgRnXCFOAQwF",
        "outputId": "f766547b-c23a-465d-c4de-f21de4e227cf"
      },
      "execution_count": 17,
      "outputs": [
        {
          "output_type": "stream",
          "name": "stdout",
          "text": [
            "Public Key A: 7\n",
            "Public Key B: 11\n",
            "Alice Shared Key: 5\n",
            "Bob Shared Key: 5\n"
          ]
        }
      ]
    },
    {
      "cell_type": "markdown",
      "source": [
        "Elliptic Curve"
      ],
      "metadata": {
        "id": "YSYgqYRyCJA3"
      }
    },
    {
      "cell_type": "code",
      "source": [
        "!pip install ecdsa\n",
        "from ecdsa import SigningKey, SECP256k1\n",
        "private_key = SigningKey.generate(curve=SECP256k1)\n",
        "public_key = private_key.get_verifying_key()\n",
        "message = b\"Hello, World!\"\n",
        "signature =private_key.sign(message)\n",
        "is_valid = public_key.verify(signature, message)\n",
        "print(f\"Private key: {private_key.to_string().hex()}\")\n",
        "print(f\"Public key: {public_key.to_string().hex()}\")\n",
        "print(f\"Message: {message.decode()}\")\n",
        "print(f\"Signature: {signature.hex()}\")\n",
        "print(f\"Signature Valid: {is_valid}\")"
      ],
      "metadata": {
        "colab": {
          "base_uri": "https://localhost:8080/"
        },
        "id": "dI5iiBenCN7n",
        "outputId": "78a6dc7f-b5a5-42bf-b19e-c4f0b3e5f14a"
      },
      "execution_count": 21,
      "outputs": [
        {
          "output_type": "stream",
          "name": "stdout",
          "text": [
            "Requirement already satisfied: ecdsa in /usr/local/lib/python3.10/dist-packages (0.19.0)\n",
            "Requirement already satisfied: six>=1.9.0 in /usr/local/lib/python3.10/dist-packages (from ecdsa) (1.16.0)\n",
            "Private key: e43444ccd0f14ee698253a87b8004161a5ebb5412b94b133d57da56e8eaba3a4\n",
            "Public key: b8862d4446b784b0a3c1615360e7ca22b4e8e9f933922ee1572185a6c3a989fe7ed0bb6170d4373489cfb6e60be84ad0244907e10df5c680441ca7dfdb873eb1\n",
            "Message: Hello, World!\n",
            "Signature: a0c7073fae8dc8d52812f1d1dc9e1d16f636c4c0a5e313fbb1f1a0c0400f1e6a3705b3976fc58189551d75753617392ed32a11af244ba918ef25d217fefbccd0\n",
            "Signature Valid: True\n"
          ]
        }
      ]
    },
    {
      "cell_type": "markdown",
      "source": [
        "Cyber Threat Detection"
      ],
      "metadata": {
        "id": "D5LA-pvZEaYE"
      }
    },
    {
      "cell_type": "code",
      "source": [
        "import pandas as pd\n",
        "from sklearn.preprocessing import StandardScaler\n",
        "from tensorflow.keras.models import Sequential\n",
        "from tensorflow.keras.layers import Dense\n",
        "\n",
        "# Event data\n",
        "data = {'user_id': [1, 2], 'resource_accessed': [101, 102], 'access_type': [1, 0], 'event_label': [0, 1]}\n",
        "df = pd.DataFrame(data)\n",
        "\n",
        "# Features and labels\n",
        "X = df[['user_id', 'resource_accessed', 'access_type']]\n",
        "y = df['event_label']\n",
        "\n",
        "# Scale features\n",
        "scaler = StandardScaler()\n",
        "X_scaled = scaler.fit_transform(X)\n",
        "\n",
        "# Build and train the model\n",
        "model = Sequential([Dense(8, activation='relu', input_shape=(X_scaled.shape[1],)), Dense(1, activation='sigmoid')])\n",
        "model.compile(optimizer='adam', loss='binary_crossentropy', metrics=['accuracy'])\n",
        "model.fit(X_scaled, y, epochs=10, verbose=0)\n",
        "\n",
        "# Predict a new event\n",
        "new_event = scaler.transform([[2, 103, 0]])\n",
        "print(\"Threat Detected!\" if model.predict(new_event) > 0.5 else \"No Threat.\")\n"
      ],
      "metadata": {
        "colab": {
          "base_uri": "https://localhost:8080/"
        },
        "id": "aCDemttHEdc4",
        "outputId": "a7a7959a-d736-4cde-e257-8e5ad9c7376f"
      },
      "execution_count": 33,
      "outputs": [
        {
          "output_type": "stream",
          "name": "stderr",
          "text": [
            "/usr/local/lib/python3.10/dist-packages/keras/src/layers/core/dense.py:87: UserWarning: Do not pass an `input_shape`/`input_dim` argument to a layer. When using Sequential models, prefer using an `Input(shape)` object as the first layer in the model instead.\n",
            "  super().__init__(activity_regularizer=activity_regularizer, **kwargs)\n",
            "/usr/local/lib/python3.10/dist-packages/sklearn/base.py:493: UserWarning: X does not have valid feature names, but StandardScaler was fitted with feature names\n",
            "  warnings.warn(\n",
            "WARNING:tensorflow:5 out of the last 5 calls to <function TensorFlowTrainer.make_predict_function.<locals>.one_step_on_data_distributed at 0x7c16af497370> triggered tf.function retracing. Tracing is expensive and the excessive number of tracings could be due to (1) creating @tf.function repeatedly in a loop, (2) passing tensors with different shapes, (3) passing Python objects instead of tensors. For (1), please define your @tf.function outside of the loop. For (2), @tf.function has reduce_retracing=True option that can avoid unnecessary retracing. For (3), please refer to https://www.tensorflow.org/guide/function#controlling_retracing and https://www.tensorflow.org/api_docs/python/tf/function for  more details.\n"
          ]
        },
        {
          "output_type": "stream",
          "name": "stdout",
          "text": [
            "\u001b[1m1/1\u001b[0m \u001b[32m━━━━━━━━━━━━━━━━━━━━\u001b[0m\u001b[37m\u001b[0m \u001b[1m0s\u001b[0m 53ms/step\n",
            "No Threat.\n"
          ]
        }
      ]
    },
    {
      "cell_type": "markdown",
      "source": [
        "Steganography"
      ],
      "metadata": {
        "id": "0WiUSvOhIYLc"
      }
    },
    {
      "cell_type": "code",
      "source": [
        "!pip install stegano\n",
        "from stegano import lsb\n",
        "input_image=\"\"\n",
        "output_image=\"\"\n",
        "message= \"This is a secret message!\"\n",
        "\n",
        "lsb.hide(input_image,message).save(output_image)\n",
        "decoded_message=lsb.reveal(output_image)\n",
        "print(decoded_message)"
      ],
      "metadata": {
        "id": "aqhdu039IR00"
      },
      "execution_count": null,
      "outputs": []
    },
    {
      "cell_type": "markdown",
      "source": [
        "Watermark"
      ],
      "metadata": {
        "id": "h7fMelblI7aa"
      }
    },
    {
      "cell_type": "code",
      "source": [
        "!pip install Pillow\n",
        "from PIL import Image, ImageDraw, ImageFont\n",
        "image =Image.opeen(\"\")\n",
        "draw= ImageDraw.Draw(image)\n",
        "draw.text((10,10), \"Watermark\",fill=\"white\")\n",
        "image.save(\"Watermarked_Image.jpg\")\n",
        "\n",
        "import matplotlib.pyplot as plt\n",
        "image = Image.open(\"Watermarked_Image.jpg\")\n",
        "plt.imshow(image)\n",
        "plt.axis(\"off\")\n",
        "plt.show()"
      ],
      "metadata": {
        "id": "1ViAHZkwI85z"
      },
      "execution_count": null,
      "outputs": []
    }
  ]
}